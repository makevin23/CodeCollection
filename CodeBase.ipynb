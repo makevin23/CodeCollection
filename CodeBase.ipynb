{
 "cells": [
  {
   "cell_type": "markdown",
   "source": [
    "# List"
   ],
   "metadata": {}
  },
  {
   "cell_type": "markdown",
   "source": [
    "## List addition"
   ],
   "metadata": {}
  },
  {
   "cell_type": "markdown",
   "source": [
    "## List multiplication"
   ],
   "metadata": {}
  },
  {
   "cell_type": "markdown",
   "source": [
    "# Dictionary"
   ],
   "metadata": {}
  },
  {
   "cell_type": "markdown",
   "source": [
    "## keys, values and items"
   ],
   "metadata": {}
  },
  {
   "cell_type": "markdown",
   "source": [
    "# For"
   ],
   "metadata": {}
  },
  {
   "cell_type": "markdown",
   "source": [
    "# If"
   ],
   "metadata": {}
  },
  {
   "cell_type": "markdown",
   "source": [
    "# Functions"
   ],
   "metadata": {}
  },
  {
   "cell_type": "markdown",
   "source": [
    "## map"
   ],
   "metadata": {}
  },
  {
   "cell_type": "markdown",
   "source": [
    "## filter"
   ],
   "metadata": {}
  },
  {
   "cell_type": "markdown",
   "source": [
    "## zip"
   ],
   "metadata": {}
  },
  {
   "cell_type": "markdown",
   "source": [
    "## ord() and chr()"
   ],
   "metadata": {}
  },
  {
   "cell_type": "markdown",
   "source": [
    "## enumerate()"
   ],
   "metadata": {}
  },
  {
   "cell_type": "markdown",
   "source": [
    "## xrange"
   ],
   "metadata": {}
  },
  {
   "cell_type": "markdown",
   "source": [
    "# Decoration"
   ],
   "metadata": {}
  },
  {
   "cell_type": "markdown",
   "source": [],
   "metadata": {}
  }
 ],
 "metadata": {
  "orig_nbformat": 4,
  "language_info": {
   "name": "python"
  }
 },
 "nbformat": 4,
 "nbformat_minor": 2
}